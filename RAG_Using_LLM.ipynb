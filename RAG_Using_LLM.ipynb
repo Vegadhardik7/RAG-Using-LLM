{
  "nbformat": 4,
  "nbformat_minor": 0,
  "metadata": {
    "colab": {
      "provenance": []
    },
    "kernelspec": {
      "name": "python3",
      "display_name": "Python 3"
    },
    "language_info": {
      "name": "python"
    }
  },
  "cells": [
    {
      "cell_type": "markdown",
      "source": [
        "# **GOAL:**\n",
        "\n",
        "Create a custom RAG application which will fetch the answer when a user send it a query.\n",
        "\n",
        "## Steps:\n",
        "\n",
        "Step 1: Input paragraph (your data)\n",
        "\n",
        "Step 2: Clean the text and split into sentences\n",
        "\n",
        "Step 3: Create dataset from individual sentences\n",
        "\n",
        "Step 4: Load embedding model\n",
        "\n",
        "Step 5: Embed each sentence and add to dataset\n",
        "\n",
        "Step 6: Build FAISS index\n",
        "\n",
        "Step 7: Perform semantic search query\n",
        "\n",
        "Step 8: Retrieve top-1 most relevant sentence\n",
        "\n",
        "Step 9: Show the clean, precise answer\n",
        "\n",
        "Step 10: Summarize answer if its too long"
      ],
      "metadata": {
        "id": "jUVqqzKg7tmr"
      }
    },
    {
      "cell_type": "markdown",
      "source": [
        "# Import Data"
      ],
      "metadata": {
        "id": "ZEN-MemO8mgs"
      }
    },
    {
      "cell_type": "code",
      "source": [
        "import nltk\n",
        "nltk.download('punkt')\n",
        "nltk.download('punkt_tab')"
      ],
      "metadata": {
        "colab": {
          "base_uri": "https://localhost:8080/"
        },
        "id": "L-Wv2NYZAvFh",
        "outputId": "da86006a-59c5-4874-f7bc-b58a7a8734a4"
      },
      "execution_count": 16,
      "outputs": [
        {
          "output_type": "stream",
          "name": "stderr",
          "text": [
            "[nltk_data] Downloading package punkt to /root/nltk_data...\n",
            "[nltk_data]   Unzipping tokenizers/punkt.zip.\n",
            "[nltk_data] Downloading package punkt_tab to /root/nltk_data...\n",
            "[nltk_data]   Unzipping tokenizers/punkt_tab.zip.\n"
          ]
        },
        {
          "output_type": "execute_result",
          "data": {
            "text/plain": [
              "True"
            ]
          },
          "metadata": {},
          "execution_count": 16
        }
      ]
    },
    {
      "cell_type": "code",
      "source": [
        "!pip install transformers datasets sentence-transformers faiss-cpu"
      ],
      "metadata": {
        "colab": {
          "base_uri": "https://localhost:8080/"
        },
        "collapsed": true,
        "id": "fQdnBEml9Xjq",
        "outputId": "37fcddb3-ba6c-45f3-ad3a-57e238ff6912"
      },
      "execution_count": 1,
      "outputs": [
        {
          "output_type": "stream",
          "name": "stdout",
          "text": [
            "Requirement already satisfied: transformers in /usr/local/lib/python3.11/dist-packages (4.51.1)\n",
            "Requirement already satisfied: datasets in /usr/local/lib/python3.11/dist-packages (3.5.0)\n",
            "Requirement already satisfied: sentence-transformers in /usr/local/lib/python3.11/dist-packages (3.4.1)\n",
            "...\n"
          ]
        }
      ]
    },
    {
      "cell_type": "code",
      "source": [
        "!pip install PyPDF2"
      ],
      "metadata": {
        "colab": {
          "base_uri": "https://localhost:8080/"
        },
        "collapsed": true,
        "id": "ISAWELjYAESp",
        "outputId": "d07445c4-cb4e-4f01-eafa-7f83b8530f49"
      },
      "execution_count": 11,
      "outputs": [
        {
          "output_type": "stream",
          "name": "stdout",
          "text": [
            "Collecting PyPDF2\n",
            "  Downloading pypdf2-3.0.1-py3-none-any.whl.metadata (6.8 kB)\n",
            "Downloading pypdf2-3.0.1-py3-none-any.whl (232 kB)\n",
            "\u001b[?25l   \u001b[90m\u2501\u2501\u2501\u2501\u2501\u2501\u2501\u2501\u2501\u2501\u2501\u2501\u2501\u2501\u2501\u2501\u2501\u2501\u2501\u2501\u2501\u2501\u2501\u2501\u2501\u2501\u2501\u2501\u2501\u2501\u2501\u2501\u2501\u2501\u2501\u2501\u2501\u2501\u2501\u2501\u001b[0m \u001b[32m0.0/232.6 kB\u001b[0m \u001b[31m?\u001b[0m eta \u001b[36m-:--:--\u001b[0m\r\u001b[2K   \u001b[90m\u2501\u2501\u2501\u2501\u2501\u2501\u2501\u2501\u2501\u2501\u2501\u2501\u2501\u2501\u2501\u2501\u2501\u2501\u2501\u2501\u2501\u2501\u2501\u2501\u2501\u2501\u2501\u2501\u2501\u2501\u2501\u2501\u2501\u2501\u2501\u2501\u2501\u2501\u2501\u2501\u001b[0m \u001b[32m232.6/232.6 kB\u001b[0m \u001b[31m7.9 MB/s\u001b[0m eta \u001b[36m0:00:00\u001b[0m\n",
            "\u001b[?25hInstalling collected packages: PyPDF2\n",
            "Successfully installed PyPDF2-3.0.1\n"
          ]
        }
      ]
    },
    {
      "cell_type": "code",
      "source": [
        "import PyPDF2\n",
        "\n",
        "with open('The_Art_of_War-Sun_Tzu.pdf', 'rb') as pdf_file:\n",
        "    reader = PyPDF2.PdfReader(pdf_file)\n",
        "    text = ''.join([page.extract_text() for page in reader.pages])\n",
        "    corpus = \"\".join(text)\n",
        "\n",
        "corpus"
      ],
      "metadata": {
        "colab": {
          "base_uri": "https://localhost:8080/",
          "height": 140
        },
        "id": "xi_DEIBBAIKr",
        "outputId": "1c59fcfc-a143-4932-a6e5-15a7f3ee5858"
      },
      "execution_count": 25,
      "outputs": [
        {
          "output_type": "execute_result",
          "data": {
            "text/plain": [
              "\"T\\x00\\x00 \\x00\\x00\\x00 \\x00\\x00 \\x00 \\x00\\x00\\nS\\x00\\x00  T \\x00 \\x00\\nT \\x00 \\x00 \\x00 \\x00 \\x00 \\x00 \\x00 \\x00 \\x00 :  L \\x00 \\x00 \\x00 ... with numbers likewise following in sequence for the remainder\\nof the chapter .\\nThis book has been downloaded from www .aliceandbooks.com . You\\ncan find many more public domain books in our website\""
            ],
            "application/vnd.google.colaboratory.intrinsic+json": {
              "type": "string"
            }
          },
          "metadata": {},
          "execution_count": 25
        }
      ]
    },
    {
      "cell_type": "markdown",
      "source": [
        "# Step 2: Clean the text and split into sentences"
      ],
      "metadata": {
        "id": "DB2pQoSOBQkz"
      }
    },
    {
      "cell_type": "code",
      "source": [
        "import re\n",
        "\n",
        "def clean_text(text):\n",
        "    text = \" \".join(re.findall(r'[a-zA-Z0-9.,;:()\"\\-]+', text))\n",
        "    text = text.replace(\"\\n\", \" \").strip()\n",
        "    return text\n",
        "\n",
        "clean_corpus = clean_text(corpus)\n",
        "clean_corpus"
      ],
      "metadata": {
        "colab": {
          "base_uri": "https://localhost:8080/",
          "height": 140
        },
        "id": "dUNDPivvAMoD",
        "outputId": "a627dab9-af4e-40a7-b49b-84b7f9a2d185"
      },
      "execution_count": 26,
      "outputs": [
        {
          "output_type": "execute_result",
          "data": {
            "text/plain": [
              "'T S T T : L G P : - 5 1 4 This book has been downloaded from www .aliceandbooks.com . You can find many more public domain books in our websiteP F Lionel Giles ground-breaking edition ... with numbers following in sequence thereafter; and paragraph 13 in Chapter 2 ought to be marked 13, 14. with numbers likewise following in sequence for the remainder of the chapter . This book has been downloaded from www .aliceandbooks.com . You can find many more public domain books in our website'"
            ],
            "application/vnd.google.colaboratory.intrinsic+json": {
              "type": "string"
            }
          },
          "metadata": {},
          "execution_count": 26
        }
      ]
    },
    {
      "cell_type": "markdown",
      "source": [
        "### Splitting into sentences using Sentence Tokenize"
      ],
      "metadata": {
        "id": "gv0W9APbBTDh"
      }
    },
    {
      "cell_type": "code",
      "source": [
        "from nltk.tokenize import sent_tokenize\n",
        "\n",
        "sentences = sent_tokenize(clean_corpus)\n",
        "sentences"
      ],
      "metadata": {
        "colab": {
          "base_uri": "https://localhost:8080/"
        },
        "id": "baxSul9mBCqa",
        "outputId": "356442a0-52e1-4395-fb80-da65e12f9561"
      },
      "execution_count": 27,
      "outputs": [
        {
          "output_type": "execute_result",
          "data": {
            "text/plain": [
              "['T S T T : L G P : - 5 1 4 This book has been downloaded from www .aliceandbooks.com .',\n",
              " 'You can find many more public domain books in our websiteP F Lionel Giles ground-breaking edition of Sun Tzu s ancient treatise on the Art of W ar was nothing short of a scholarly masterpiece.',\n",
              " '3.',\n",
              " 'The art of war , then, is governed by five constant factors, to be taken into account in one s deliberations, when seeking to determine the conditions obtaining in the field.',\n",
              " '4.',\n",
              " 'These are: ( ) the Moral Law; ( ) Heaven; ( ) Earth; ( ) the Commander; ( ) method and discipline.',\n",
              " '5.',\n",
              " 'The Moral Law causes the people to be in complete accord with their ruler , so that they will follow him regardless of their lives, undismayed by any danger .',\n",
              " '6.',\n",
              " 'Heaven signifies night and day , cold and heat, times and seasons.',\n",
              " '7.',\n",
              " 'Earth comprises distances, great and small; danger and security; open ground and narrow passes; the chances of life and death.',\n",
              " '8.',\n",
              " 'The Commander stands for the virtues of wisdom, sincerity , benevolence, courage and strictness.',\n",
              " '9.',\n",
              " '...',\n",
	      " 'By method and discipline are to be understood the marshaling of the army in its proper subdivisions, the graduations of rank among the of ficers, the maintenance of roads by which supplies may reach the army , and the control of military expenditure.',\n",
              " '10.',\n",
              " 'These five heads should be familiar to every general: he who knows them will be victorious; he who knows them not will fail.',\n",
              " '11.',\n",
              " 'Therefore, in your deliberations, when seeking to determine the military conditions, let them be made the basis of a comparison,in this wise: 12.',\n",
              " '( ) Which of the two sovereigns is imbued with the Moral Law ( ) Which of the two generals has most ability ( ) With whom lie the advantages derived from Heaven and Earth ( ) On which side is discipline most rigorously enforced ( ) Which army is stronger ( ) On which side are of ficers and men more highly trained ( ) In which army is there the greater constancy both in reward and punishment 13.',\n",
              " 'You can find many more public domain books in our website']"
            ]
          },
          "metadata": {},
          "execution_count": 27
        }
      ]
    },
    {
      "cell_type": "code",
      "source": [
        "sentences = [sentence for sentence in sentences if len(sentence) >= 10]\n",
        "sentences"
      ],
      "metadata": {
        "colab": {
          "base_uri": "https://localhost:8080/"
        },
        "id": "cNbyr8_wBZhk",
        "outputId": "d0a700f5-9c10-4583-dd2a-89ef422beae1"
      },
      "execution_count": 28,
      "outputs": [
        {
          "output_type": "execute_result",
          "data": {
            "text/plain": [
              "['T S T T : L G P : - 5 1 4 This book has been downloaded from www .aliceandbooks.com .',\n",
              " 'You can find many more public domain books in our websiteP F Lionel Giles ground-breaking edition of Sun Tzu s ancient treatise on the Art of W ar was nothing short of a scholarly masterpiece.',\n",
              " 'It contains the original Chinese text, an accurate and fancy-free yet highly readable translation, extensive annotations by both ancient Chinese commentators and Giles himself, and a vast introduction to provide an in-depth historical perspective to it all.',\n",
             "'...',\n", 
             " 'This book has been downloaded from www .aliceandbooks.com .',\n",
              " 'You can find many more public domain books in our website']"
            ]
          },
          "metadata": {},
          "execution_count": 28
        }
      ]
    },
    {
      "cell_type": "markdown",
      "source": [
        "# Step 3: Create dataset from individual sentences"
      ],
      "metadata": {
        "id": "2Fz0ArrBDCHh"
      }
    },
    {
      "cell_type": "code",
      "source": [
        "!pip install datasets"
      ],
      "metadata": {
        "collapsed": true,
        "colab": {
          "base_uri": "https://localhost:8080/"
        },
        "id": "FlXLpwXnDapN",
        "outputId": "7c2f548c-33ac-44cb-ff8e-1d6802e27785"
      },
      "execution_count": 31,
      "outputs": [
        {
          "output_type": "stream",
          "name": "stdout",
          "text": [
            "Requirement already satisfied: datasets in /usr/local/lib/python3.11/dist-packages (3.5.0)\n",
            "Requirement already satisfied: filelock in /usr/local/lib/python3.11/dist-packages (from datasets) (3.18.0)\n",
            "Requirement already satisfied: numpy>=1.17 in /usr/local/lib/python3.11/dist-packages (from datasets) (2.0.2)\n",
            "..."
          ]
        }
      ]
    },
    {
      "cell_type": "code",
      "source": [
        "from datasets import Dataset\n",
        "\n",
        "dataset = Dataset.from_dict({\"context\": sentences})\n",
        "dataset"
      ],
      "metadata": {
        "colab": {
          "base_uri": "https://localhost:8080/"
        },
        "id": "tCiQD6m6B_Np",
        "outputId": "a8451265-a789-4c94-846d-99566f4dc18a"
      },
      "execution_count": 33,
      "outputs": [
        {
          "output_type": "execute_result",
          "data": {
            "text/plain": [
              "Dataset({\n",
              "    features: ['context'],\n",
              "    num_rows: 563\n",
              "})"
            ]
          },
          "metadata": {},
          "execution_count": 33
        }
      ]
    },
    {
      "cell_type": "code",
      "source": [
        "dataset['context']"
      ],
      "metadata": {
        "colab": {
          "base_uri": "https://localhost:8080/"
        },
        "id": "0DOZ7lzyDeOL",
        "outputId": "dab5dcfd-2d4f-4ddc-9795-40e5e1035801"
      },
      "execution_count": 34,
      "outputs": [
        {
          "output_type": "execute_result",
          "data": {
            "text/plain": [
              "['T S T T : L G P : - 5 1 4 This book has been downloaded from www .aliceandbooks.com .',\n",
              " 'You can find many more public domain books in our websiteP F Lionel Giles ground-breaking edition of Sun Tzu s ancient treatise on the Art of W ar was nothing short of a scholarly masterpiece.',\n",
              "'...',\n",
              " '1 This edition, due to technical limitations, uses simplified numbering for Chapters 1 and 2.',\n",
              " 'Correctly , paragraph 5 in Chapter 1 ought to be marked 5, 6. with numbers following in sequence thereafter; and paragraph 13 in Chapter 2 ought to be marked 13, 14. with numbers likewise following in sequence for the remainder of the chapter .',\n",
              " 'This book has been downloaded from www .aliceandbooks.com .',\n",
              " 'You can find many more public domain books in our website']"
            ]
          },
          "metadata": {},
          "execution_count": 34
        }
      ]
    },
    {
      "cell_type": "markdown",
      "source": [
        "# Step 4: Load embedding model\n",
        "\n",
        "This section of the code is responsible for loading a pre-trained model that will be used to generate embeddings for our text data."
      ],
      "metadata": {
        "id": "VbJt3vCJD-27"
      }
    },
    {
      "cell_type": "code",
      "source": [
        "from sentence_transformers import SentenceTransformer\n",
        "\n",
        "model = SentenceTransformer(\"all-MiniLM-L6-v2\")\n",
        "model"
      ],
      "metadata": {
        "colab": {
          "base_uri": "https://localhost:8080/",
          "height": 649,
          "referenced_widgets": [
            "0c08cfdd03674d0e953dd1efc15ebb7d",
            "fd7b41f24d254d90b70ab76698dc0dd9",
            "...",
            "a835644ef8c240e7bfa5243eaa1e3963",
            "630c80d2d9894e1caf5c89d665581866"
          ]
        },
        "id": "fgYlNCNpD3IQ",
        "outputId": "fcb5bf4b-76f9-47ae-fef9-39b6af495234"
      },
      "execution_count": 35,
      "outputs": [
        {
          "output_type": "stream",
          "name": "stderr",
          "text": [
            "/usr/local/lib/python3.11/dist-packages/huggingface_hub/utils/_auth.py:94: UserWarning: \n",
            "The secret `HF_TOKEN` does not exist in your Colab secrets.\n",
            "To authenticate with the Hugging Face Hub, create a token in your settings tab (https://huggingface.co/settings/tokens), set it as secret in your Google Colab and restart your session.\n",
            "You will be able to reuse this secret in all of your notebooks.\n",
            "Please note that authentication is recommended but still optional to access public models or datasets.\n",
            "  warnings.warn(\n"
          ]
        },
        {
          "output_type": "display_data",
          "data": {
            "text/plain": [
              "modules.json:   0%|          | 0.00/349 [00:00<?, ?B/s]"
            ],
            "application/vnd.jupyter.widget-view+json": {
              "version_major": 2,
              "version_minor": 0,
              "model_id": "0c08cfdd03674d0e953dd1efc15ebb7d"
            }
          },
          "metadata": {}
        },
        {
          "output_type": "display_data",
          "data": {
            "text/plain": [
              "config_sentence_transformers.json:   0%|          | 0.00/116 [00:00<?, ?B/s]"
            ],
            "application/vnd.jupyter.widget-view+json": {
              "version_major": 2,
              "version_minor": 0,
              "model_id": "564dea654142473a97d74ce23b4c5b7e"
            }
          },
          "metadata": {}
        },
        {
          "output_type": "display_data",
          "data": {
            "text/plain": [
              "README.md:   0%|          | 0.00/10.5k [00:00<?, ?B/s]"
            ],
            "application/vnd.jupyter.widget-view+json": {
              "version_major": 2,
              "version_minor": 0,
              "model_id": "610bf09772c24c368b21713fcfb944cc"
            }
          },
          "metadata": {}
        },
        {
          "output_type": "display_data",
          "data": {
            "text/plain": [
              "sentence_bert_config.json:   0%|          | 0.00/53.0 [00:00<?, ?B/s]"
            ],
            "application/vnd.jupyter.widget-view+json": {
              "version_major": 2,
              "version_minor": 0,
              "model_id": "a107834fe5204799b3411d1b28ff0a94"
            }
          },
          "metadata": {}
        },
        {
          "output_type": "display_data",
          "data": {
            "text/plain": [
              "config.json:   0%|          | 0.00/612 [00:00<?, ?B/s]"
            ],
            "application/vnd.jupyter.widget-view+json": {
              "version_major": 2,
              "version_minor": 0,
              "model_id": "dff997d7f1fa4264a02610c43a3fb9d9"
            }
          },
          "metadata": {}
        },
        {
          "output_type": "stream",
          "name": "stderr",
          "text": [
            "Xet Storage is enabled for this repo, but the 'hf_xet' package is not installed. Falling back to regular HTTP download. For better performance, install the package with: `pip install huggingface_hub[hf_xet]` or `pip install hf_xet`\n",
            "WARNING:huggingface_hub.file_download:Xet Storage is enabled for this repo, but the 'hf_xet' package is not installed. Falling back to regular HTTP download. For better performance, install the package with: `pip install huggingface_hub[hf_xet]` or `pip install hf_xet`\n"
          ]
        },
        {
          "output_type": "display_data",
          "data": {
            "text/plain": [
              "model.safetensors:   0%|          | 0.00/90.9M [00:00<?, ?B/s]"
            ],
            "application/vnd.jupyter.widget-view+json": {
              "version_major": 2,
              "version_minor": 0,
              "model_id": "6d5ac9d1ae0840ddb35a20e6546a6a9b"
            }
          },
          "metadata": {}
        },
        {
          "output_type": "display_data",
          "data": {
            "text/plain": [
              "tokenizer_config.json:   0%|          | 0.00/350 [00:00<?, ?B/s]"
            ],
            "application/vnd.jupyter.widget-view+json": {
              "version_major": 2,
              "version_minor": 0,
              "model_id": "0d941b2de4e6401f897a568002edfbd1"
            }
          },
          "metadata": {}
        },
        {
          "output_type": "display_data",
          "data": {
            "text/plain": [
              "vocab.txt:   0%|          | 0.00/232k [00:00<?, ?B/s]"
            ],
            "application/vnd.jupyter.widget-view+json": {
              "version_major": 2,
              "version_minor": 0,
              "model_id": "3874dbb5544f40de8d5f5b99dc817fd3"
            }
          },
          "metadata": {}
        },
        {
          "output_type": "display_data",
          "data": {
            "text/plain": [
              "tokenizer.json:   0%|          | 0.00/466k [00:00<?, ?B/s]"
            ],
            "application/vnd.jupyter.widget-view+json": {
              "version_major": 2,
              "version_minor": 0,
              "model_id": "3d6cad3b7f414ffe871c2ac769b19431"
            }
          },
          "metadata": {}
        },
        {
          "output_type": "display_data",
          "data": {
            "text/plain": [
              "special_tokens_map.json:   0%|          | 0.00/112 [00:00<?, ?B/s]"
            ],
            "application/vnd.jupyter.widget-view+json": {
              "version_major": 2,
              "version_minor": 0,
              "model_id": "e71c99439f1e4a57a67439756c8b8a34"
            }
          },
          "metadata": {}
        },
        {
          "output_type": "display_data",
          "data": {
            "text/plain": [
              "config.json:   0%|          | 0.00/190 [00:00<?, ?B/s]"
            ],
            "application/vnd.jupyter.widget-view+json": {
              "version_major": 2,
              "version_minor": 0,
              "model_id": "090c018528fe44d7904ec3a728abaa53"
            }
          },
          "metadata": {}
        },
        {
          "output_type": "execute_result",
          "data": {
            "text/plain": [
              "SentenceTransformer(\n",
              "  (0): Transformer({'max_seq_length': 256, 'do_lower_case': False}) with Transformer model: BertModel \n",
              "  (1): Pooling({'word_embedding_dimension': 384, 'pooling_mode_cls_token': False, 'pooling_mode_mean_tokens': True, 'pooling_mode_max_tokens': False, 'pooling_mode_mean_sqrt_len_tokens': False, 'pooling_mode_weightedmean_tokens': False, 'pooling_mode_lasttoken': False, 'include_prompt': True})\n",
              "  (2): Normalize()\n",
              ")"
            ]
          },
          "metadata": {},
          "execution_count": 35
        }
      ]
    },
    {
      "cell_type": "markdown",
      "source": [
        "# Step 5: Embed each sentence and add to dataset\n",
        "\n",
        "This code snippet focuses on generating embeddings for each sentence in your dataset and adding those embeddings to the dataset itself. Here's a detailed explanation:\n",
        "\n",
        "* `def get_embeddings(texts)`: This line defines a function named `get_embeddings` that takes a list of `texts` as input.\n",
        "\n",
        "* `embeddings = model.encode(texts, normalize_embeddings=True)`: Inside the function, this line is the core of the embedding generation process.\n",
        "\n",
        "    - It uses the `pre-trained model` (loaded earlier in your code) to encode the input texts. Encoding essentially means converting the text into a numerical vector that represents its meaning.\n",
        "\n",
        "    - `normalize_embeddings=True` ensures that the generated embeddings are normalized, meaning they have a length of 1. This is often done to improve the performance of similarity calculations.\n",
        "\n",
        "    - `return embeddings:` This line simply returns the generated embeddings.\n",
        "\n",
        "* `dataset = dataset.map(lambda x: {\"embedding\": get_embeddings([x[\"context\"]])[0]})`: This line is crucial for adding the embeddings to your dataset.\n",
        "\n",
        "    * `dataset.map()` is a method that applies a given function to each element of the dataset.\n",
        "\n",
        "    * `lambda x: {\"embedding\": get_embeddings([x[\"context\"]])[0]}` is an anonymous (lambda) function that's being applied to each element.\n",
        "\n",
        "    * x represents a single row in your dataset. `x[\"context\"]` accesses the \"context\" column of that row, which contains a sentence. `get_embeddings([x[\"context\"]])[0]` calls our previously defined get_embeddings function to generate the embedding for the sentence and then extracts the first element (since we only encoded one sentence).\n",
        "\n",
        "* `{\"embedding\": ...}` creates a new dictionary with the key \"embedding\" and the generated embedding as its value. This dictionary is added to the dataset.\n",
        "dataset: Finally, this line prints the updated dataset, which now includes a new column called 'embedding' that will contain the text embeddings for each row within the context column of your dataset."
      ],
      "metadata": {
        "id": "n669LPEdEX2Q"
      }
    },
    {
      "cell_type": "code",
      "source": [
        "def get_embeddings(texts):\n",
        "    embeddings = model.encode(texts, normalize_embeddings=True)\n",
        "    return embeddings\n",
        "\n",
        "dataset = dataset.map(lambda x: {\"embedding\": get_embeddings([x[\"context\"]])[0]})\n",
        "dataset"
      ],
      "metadata": {
        "colab": {
          "base_uri": "https://localhost:8080/",
          "height": 118,
          "referenced_widgets": [
            "8ae60a26c4d94efd91076a4c820ab983",
            "04888760ff524d7491dbf460b9e95704",
            "efcdef8ab98342649e7bb6596fcdb847",
            "4c785bd9efed4c8a92e9e454026f174c",
            "8599171b06624faaa78e203f45fd2a6d",
            "5668cdb6a59a4ef1b0601f70bc7b97de",
            "33cbae2abb684e40b17565836dae8224",
            "a78265473dd7413fb6a86c909ba44359",
            "29b6c5045cf64bc59ffbe034e61801c9",
            "4d296a7b77444f44abbb48a6672ddd27",
            "ef917d1894304274876bd07dd9e57f26"
          ]
        },
        "id": "YXVsVnv1EI8e",
        "outputId": "6062589a-2313-40fb-a597-bd49c2e10892"
      },
      "execution_count": 36,
      "outputs": [
        {
          "output_type": "display_data",
          "data": {
            "text/plain": [
              "Map:   0%|          | 0/563 [00:00<?, ? examples/s]"
            ],
            "application/vnd.jupyter.widget-view+json": {
              "version_major": 2,
              "version_minor": 0,
              "model_id": "8ae60a26c4d94efd91076a4c820ab983"
            }
          },
          "metadata": {}
        },
        {
          "output_type": "execute_result",
          "data": {
            "text/plain": [
              "Dataset({\n",
              "    features: ['context', 'embedding'],\n",
              "    num_rows: 563\n",
              "})"
            ]
          },
          "metadata": {},
          "execution_count": 36
        }
      ]
    },
    {
      "cell_type": "code",
      "source": [
        "import pandas as pd\n",
        "\n",
        "pd.DataFrame({'context':dataset['context'], 'embedding':dataset['embedding']})"
      ],
      "metadata": {
        "colab": {
          "base_uri": "https://localhost:8080/",
          "height": 423
        },
        "id": "8asp4tHEEdjh",
        "outputId": "54eda5cf-6bf2-4b8e-91d9-d8a43d9cfc0e"
      },
      "execution_count": 40,
      "outputs": [
        {
          "output_type": "execute_result",
          "data": {
            "text/plain": [
              "                                               context  \\\n",
              "0    T S T T : L G P : - 5 1 4 This book has been d...   \n",
              "1    You can find many more public domain books in ...   \n",
              "2    It contains the original Chinese text, an accu...   \n",
              "3    Despite not having become the final word on Ar...   \n",
              "4    This edition aims to of fer the reader the ful...   \n",
              "..                                                 ...   \n",
              "558  Spies are a most important element in war , be...   \n",
              "559  1 This edition, due to technical limitations, ...   \n",
              "560  Correctly , paragraph 5 in Chapter 1 ought to ...   \n",
              "561  This book has been downloaded from www .alicea...   \n",
              "562  You can find many more public domain books in ...   \n",
              "\n",
              "                                             embedding  \n",
              "0    [-0.059606559574604034, 0.02161659114062786, 0...  \n",
              "1    [-0.07412464916706085, 0.05851251259446144, -0...  \n",
              "2    [-0.0948018953204155, 0.1110830307006836, 0.03...  \n",
              "3    [-0.017075080424547195, 0.04146838188171387, -...  \n",
              "4    [-0.024649500846862793, 0.052450671792030334, ...  \n",
              "..                                                 ...  \n",
              "558  [-0.02499540150165558, -0.018303342163562775, ...  \n",
              "559  [-0.03652389347553253, -0.02410336397588253, 0...  \n",
              "560  [-0.09111081063747406, 0.0096738925203681, 0.0...  \n",
              "561  [0.008709556423127651, 0.015777170658111572, -...  \n",
              "562  [0.009475586004555225, -0.10236195474863052, -...  \n",
              "\n",
              "[563 rows x 2 columns]"
            ],
            "text/html": [
              "\n",
              "  <div id=\"df-a2000b28-e031-4f64-a43d-be559e8e6b03\" class=\"colab-df-container\">\n",
              "    <div>\n",
              "<style scoped>\n",
              "    .dataframe tbody tr th:only-of-type {\n",
              "        vertical-align: middle;\n",
              "    }\n",
              "\n",
              "    .dataframe tbody tr th {\n",
              "        vertical-align: top;\n",
              "    }\n",
              "\n",
              "    .dataframe thead th {\n",
              "        text-align: right;\n",
              "    }\n",
              "</style>\n",
              "<table border=\"1\" class=\"dataframe\">\n",
              "  <thead>\n",
              "    <tr style=\"text-align: right;\">\n",
              "      <th></th>\n",
              "      <th>context</th>\n",
              "      <th>embedding</th>\n",
              "    </tr>\n",
              "  </thead>\n",
              "  <tbody>\n",
              "    <tr>\n",
              "      <th>0</th>\n",
              "      <td>T S T T : L G P : - 5 1 4 This book has been d...</td>\n",
              "      <td>[-0.059606559574604034, 0.02161659114062786, 0...</td>\n",
              "    </tr>\n",
              "    <tr>\n",
              "      <th>1</th>\n",
              "      <td>You can find many more public domain books in ...</td>\n",
              "      <td>[-0.07412464916706085, 0.05851251259446144, -0...</td>\n",
              "    </tr>\n",
              "    <tr>\n",
              "      <th>2</th>\n",
              "      <td>It contains the original Chinese text, an accu...</td>\n",
              "      <td>[-0.0948018953204155, 0.1110830307006836, 0.03...</td>\n",
              "    </tr>\n",
              "    <tr>\n",
              "      <th>3</th>\n",
              "      <td>Despite not having become the final word on Ar...</td>\n",
              "      <td>[-0.017075080424547195, 0.04146838188171387, -...</td>\n",
              "    </tr>\n",
              "    <tr>\n",
              "      <th>4</th>\n",
              "      <td>This edition aims to of fer the reader the ful...</td>\n",
              "      <td>[-0.024649500846862793, 0.052450671792030334, ...</td>\n",
              "    </tr>\n",
              "    <tr>\n",
              "      <th>...</th>\n",
              "      <td>...</td>\n",
              "      <td>...</td>\n",
              "    </tr>\n",
              "    <tr>\n",
              "      <th>558</th>\n",
              "      <td>Spies are a most important element in war , be...</td>\n",
              "      <td>[-0.02499540150165558, -0.018303342163562775, ...</td>\n",
              "    </tr>\n",
              "    <tr>\n",
              "      <th>559</th>\n",
              "      <td>1 This edition, due to technical limitations, ...</td>\n",
              "      <td>[-0.03652389347553253, -0.02410336397588253, 0...</td>\n",
              "    </tr>\n",
              "    <tr>\n",
              "      <th>560</th>\n",
              "      <td>Correctly , paragraph 5 in Chapter 1 ought to ...</td>\n",
              "      <td>[-0.09111081063747406, 0.0096738925203681, 0.0...</td>\n",
              "    </tr>\n",
              "    <tr>\n",
              "      <th>561</th>\n",
              "      <td>This book has been downloaded from www .alicea...</td>\n",
              "      <td>[0.008709556423127651, 0.015777170658111572, -...</td>\n",
              "    </tr>\n",
              "    <tr>\n",
              "      <th>562</th>\n",
              "      <td>You can find many more public domain books in ...</td>\n",
              "      <td>[0.009475586004555225, -0.10236195474863052, -...</td>\n",
              "    </tr>\n",
              "  </tbody>\n",
              "</table>\n",
              "<p>563 rows \u00d7 2 columns</p>\n",
              "</div>\n",
              "    <div class=\"colab-df-buttons\">\n",
              "\n",
              "  <div class=\"colab-df-container\">\n",
              "    <button class=\"colab-df-convert\" onclick=\"convertToInteractive('df-a2000b28-e031-4f64-a43d-be559e8e6b03')\"\n",
              "            title=\"Convert this dataframe to an interactive table.\"\n",
              "            style=\"display:none;\">\n",
              "\n",
              "  <svg xmlns=\"http://www.w3.org/2000/svg\" height=\"24px\" viewBox=\"0 -960 960 960\">\n",
              "    <path d=\"M120-120v-720h720v720H120Zm60-500h600v-160H180v160Zm220 220h160v-160H400v160Zm0 220h160v-160H400v160ZM180-400h160v-160H180v160Zm440 0h160v-160H620v160ZM180-180h160v-160H180v160Zm440 0h160v-160H620v160Z\"/>\n",
              "  </svg>\n",
              "    </button>\n",
              "\n",
              "  <style>\n",
              "    .colab-df-container {\n",
              "      display:flex;\n",
              "      gap: 12px;\n",
              "    }\n",
              "\n",
              "    .colab-df-convert {\n",
              "      background-color: #E8F0FE;\n",
              "      border: none;\n",
              "      border-radius: 50%;\n",
              "      cursor: pointer;\n",
              "      display: none;\n",
              "      fill: #1967D2;\n",
              "      height: 32px;\n",
              "      padding: 0 0 0 0;\n",
              "      width: 32px;\n",
              "    }\n",
              "\n",
              "    .colab-df-convert:hover {\n",
              "      background-color: #E2EBFA;\n",
              "      box-shadow: 0px 1px 2px rgba(60, 64, 67, 0.3), 0px 1px 3px 1px rgba(60, 64, 67, 0.15);\n",
              "      fill: #174EA6;\n",
              "    }\n",
              "\n",
              "    .colab-df-buttons div {\n",
              "      margin-bottom: 4px;\n",
              "    }\n",
              "\n",
              "    [theme=dark] .colab-df-convert {\n",
              "      background-color: #3B4455;\n",
              "      fill: #D2E3FC;\n",
              "    }\n",
              "\n",
              "    [theme=dark] .colab-df-convert:hover {\n",
              "      background-color: #434B5C;\n",
              "      box-shadow: 0px 1px 3px 1px rgba(0, 0, 0, 0.15);\n",
              "      filter: drop-shadow(0px 1px 2px rgba(0, 0, 0, 0.3));\n",
              "      fill: #FFFFFF;\n",
              "    }\n",
              "  </style>\n",
              "\n",
              "    <script>\n",
              "      const buttonEl =\n",
              "        document.querySelector('#df-a2000b28-e031-4f64-a43d-be559e8e6b03 button.colab-df-convert');\n",
              "      buttonEl.style.display =\n",
              "        google.colab.kernel.accessAllowed ? 'block' : 'none';\n",
              "\n",
              "      async function convertToInteractive(key) {\n",
              "        const element = document.querySelector('#df-a2000b28-e031-4f64-a43d-be559e8e6b03');\n",
              "        const dataTable =\n",
              "          await google.colab.kernel.invokeFunction('convertToInteractive',\n",
              "                                                    [key], {});\n",
              "        if (!dataTable) return;\n",
              "\n",
              "        const docLinkHtml = 'Like what you see? Visit the ' +\n",
              "          '<a target=\"_blank\" href=https://colab.research.google.com/notebooks/data_table.ipynb>data table notebook</a>'\n",
              "          + ' to learn more about interactive tables.';\n",
              "        element.innerHTML = '';\n",
              "        dataTable['output_type'] = 'display_data';\n",
              "        await google.colab.output.renderOutput(dataTable, element);\n",
              "        const docLink = document.createElement('div');\n",
              "        docLink.innerHTML = docLinkHtml;\n",
              "        element.appendChild(docLink);\n",
              "      }\n",
              "    </script>\n",
              "  </div>\n",
              "\n",
              "\n",
              "<div id=\"df-8e32ed37-85b9-4bee-a664-21d39f179b6a\">\n",
              "  <button class=\"colab-df-quickchart\" onclick=\"quickchart('df-8e32ed37-85b9-4bee-a664-21d39f179b6a')\"\n",
              "            title=\"Suggest charts\"\n",
              "            style=\"display:none;\">\n",
              "\n",
              "<svg xmlns=\"http://www.w3.org/2000/svg\" height=\"24px\"viewBox=\"0 0 24 24\"\n",
              "     width=\"24px\">\n",
              "    <g>\n",
              "        <path d=\"M19 3H5c-1.1 0-2 .9-2 2v14c0 1.1.9 2 2 2h14c1.1 0 2-.9 2-2V5c0-1.1-.9-2-2-2zM9 17H7v-7h2v7zm4 0h-2V7h2v10zm4 0h-2v-4h2v4z\"/>\n",
              "    </g>\n",
              "</svg>\n",
              "  </button>\n",
              "\n",
              "<style>\n",
              "  .colab-df-quickchart {\n",
              "      --bg-color: #E8F0FE;\n",
              "      --fill-color: #1967D2;\n",
              "      --hover-bg-color: #E2EBFA;\n",
              "      --hover-fill-color: #174EA6;\n",
              "      --disabled-fill-color: #AAA;\n",
              "      --disabled-bg-color: #DDD;\n",
              "  }\n",
              "\n",
              "  [theme=dark] .colab-df-quickchart {\n",
              "      --bg-color: #3B4455;\n",
              "      --fill-color: #D2E3FC;\n",
              "      --hover-bg-color: #434B5C;\n",
              "      --hover-fill-color: #FFFFFF;\n",
              "      --disabled-bg-color: #3B4455;\n",
              "      --disabled-fill-color: #666;\n",
              "  }\n",
              "\n",
              "  .colab-df-quickchart {\n",
              "    background-color: var(--bg-color);\n",
              "    border: none;\n",
              "    border-radius: 50%;\n",
              "    cursor: pointer;\n",
              "    display: none;\n",
              "    fill: var(--fill-color);\n",
              "    height: 32px;\n",
              "    padding: 0;\n",
              "    width: 32px;\n",
              "  }\n",
              "\n",
              "  .colab-df-quickchart:hover {\n",
              "    background-color: var(--hover-bg-color);\n",
              "    box-shadow: 0 1px 2px rgba(60, 64, 67, 0.3), 0 1px 3px 1px rgba(60, 64, 67, 0.15);\n",
              "    fill: var(--button-hover-fill-color);\n",
              "  }\n",
              "\n",
              "  .colab-df-quickchart-complete:disabled,\n",
              "  .colab-df-quickchart-complete:disabled:hover {\n",
              "    background-color: var(--disabled-bg-color);\n",
              "    fill: var(--disabled-fill-color);\n",
              "    box-shadow: none;\n",
              "  }\n",
              "\n",
              "  .colab-df-spinner {\n",
              "    border: 2px solid var(--fill-color);\n",
              "    border-color: transparent;\n",
              "    border-bottom-color: var(--fill-color);\n",
              "    animation:\n",
              "      spin 1s steps(1) infinite;\n",
              "  }\n",
              "\n",
              "  @keyframes spin {\n",
              "    0% {\n",
              "      border-color: transparent;\n",
              "      border-bottom-color: var(--fill-color);\n",
              "      border-left-color: var(--fill-color);\n",
              "    }\n",
              "    20% {\n",
              "      border-color: transparent;\n",
              "      border-left-color: var(--fill-color);\n",
              "      border-top-color: var(--fill-color);\n",
              "    }\n",
              "    30% {\n",
              "      border-color: transparent;\n",
              "      border-left-color: var(--fill-color);\n",
              "      border-top-color: var(--fill-color);\n",
              "      border-right-color: var(--fill-color);\n",
              "    }\n",
              "    40% {\n",
              "      border-color: transparent;\n",
              "      border-right-color: var(--fill-color);\n",
              "      border-top-color: var(--fill-color);\n",
              "    }\n",
              "    60% {\n",
              "      border-color: transparent;\n",
              "      border-right-color: var(--fill-color);\n",
              "    }\n",
              "    80% {\n",
              "      border-color: transparent;\n",
              "      border-right-color: var(--fill-color);\n",
              "      border-bottom-color: var(--fill-color);\n",
              "    }\n",
              "    90% {\n",
              "      border-color: transparent;\n",
              "      border-bottom-color: var(--fill-color);\n",
              "    }\n",
              "  }\n",
              "</style>\n",
              "\n",
              "  <script>\n",
              "    async function quickchart(key) {\n",
              "      const quickchartButtonEl =\n",
              "        document.querySelector('#' + key + ' button');\n",
              "      quickchartButtonEl.disabled = true;  // To prevent multiple clicks.\n",
              "      quickchartButtonEl.classList.add('colab-df-spinner');\n",
              "      try {\n",
              "        const charts = await google.colab.kernel.invokeFunction(\n",
              "            'suggestCharts', [key], {});\n",
              "      } catch (error) {\n",
              "        console.error('Error during call to suggestCharts:', error);\n",
              "      }\n",
              "      quickchartButtonEl.classList.remove('colab-df-spinner');\n",
              "      quickchartButtonEl.classList.add('colab-df-quickchart-complete');\n",
              "    }\n",
              "    (() => {\n",
              "      let quickchartButtonEl =\n",
              "        document.querySelector('#df-8e32ed37-85b9-4bee-a664-21d39f179b6a button');\n",
              "      quickchartButtonEl.style.display =\n",
              "        google.colab.kernel.accessAllowed ? 'block' : 'none';\n",
              "    })();\n",
              "  </script>\n",
              "</div>\n",
              "\n",
              "    </div>\n",
              "  </div>\n"
            ],
            "application/vnd.google.colaboratory.intrinsic+json": {
              "type": "dataframe",
              "summary": "{\n  \"name\": \"pd\",\n  \"rows\": 563,\n  \"fields\": [\n    {\n      \"column\": \"context\",\n      \"properties\": {\n        \"dtype\": \"string\",\n        \"num_unique_values\": 563,\n        \"samples\": [\n          \"He will conquer who has learnt the artifice of deviation.\",\n          \"There will be commotion at home and abroad, and men will drop down exhausted on the highways.\",\n          \"Do not interfere with an army that is returning home.\"\n        ],\n        \"semantic_type\": \"\",\n        \"description\": \"\"\n      }\n    },\n    {\n      \"column\": \"embedding\",\n      \"properties\": {\n        \"dtype\": \"object\",\n        \"semantic_type\": \"\",\n        \"description\": \"\"\n      }\n    }\n  ]\n}"
            }
          },
          "metadata": {},
          "execution_count": 40
        }
      ]
    },
    {
      "cell_type": "markdown",
      "source": [
        "# Step 6: Build FAISS index\n",
        "\n",
        "faiss library, is a powerful tool specifically designed for similarity search.\n",
        "\n",
        "In simpler terms: You are organizing your sentences in a special way (using FAISS) that makes it extremely fast to find the sentences that are semantically most similar to a given query. This is crucial for the retrieval part of your RAG application."
      ],
      "metadata": {
        "id": "X5ZmP38yFoNO"
      }
    },
    {
      "cell_type": "code",
      "source": [
        "import faiss\n",
        "dataset.add_faiss_index(column=\"embedding\")"
      ],
      "metadata": {
        "colab": {
          "base_uri": "https://localhost:8080/",
          "height": 118,
          "referenced_widgets": [
            "0fada1271d0944369ed74e13a0c97e80",
            "344f3c35110f4408b4a2b4f4452e4c25",
            "470a956eb3ac4bdb9cc4e4cad016a6f6",
            "5a3230105b3643b28171cbca9cd8c671",
            "48bd6f7fb1e34ffe9854789f565a8569",
            "da01a53673554d9985714c215464b45a",
            "ab4a64510b0749e29ee9b339bd1fc012",
            "2631987cb5b8498cb0b0e8549cce3bcf",
            "9cc2b374f31545dd91be86ac14085597",
            "55bb98af6eba4d569d1a1f05e6d40808",
            "45bde131c02f4722a58d13b6ceba4712"
          ]
        },
        "id": "TVdw_kE0Fh2y",
        "outputId": "a4ee29cc-000c-42d6-b988-6799c0fbf117"
      },
      "execution_count": 41,
      "outputs": [
        {
          "output_type": "display_data",
          "data": {
            "text/plain": [
              "  0%|          | 0/1 [00:00<?, ?it/s]"
            ],
            "application/vnd.jupyter.widget-view+json": {
              "version_major": 2,
              "version_minor": 0,
              "model_id": "0fada1271d0944369ed74e13a0c97e80"
            }
          },
          "metadata": {}
        },
        {
          "output_type": "execute_result",
          "data": {
            "text/plain": [
              "Dataset({\n",
              "    features: ['context', 'embedding'],\n",
              "    num_rows: 563\n",
              "})"
            ]
          },
          "metadata": {},
          "execution_count": 41
        }
      ]
    },
    {
      "cell_type": "code",
      "source": [
        "import pandas as pd\n",
        "\n",
        "pd.DataFrame({'context':dataset['context'], 'embedding':dataset['embedding']})"
      ],
      "metadata": {
        "colab": {
          "base_uri": "https://localhost:8080/",
          "height": 423
        },
        "id": "oJmYD11dFvWd",
        "outputId": "33892d6c-73e5-4f52-b2a8-96af1ebfefba"
      },
      "execution_count": 42,
      "outputs": [
        {
          "output_type": "execute_result",
          "data": {
            "text/plain": [
              "                                               context  \\\n",
              "0    T S T T : L G P : - 5 1 4 This book has been d...   \n",
              "1    You can find many more public domain books in ...   \n",
              "2    It contains the original Chinese text, an accu...   \n",
              "3    Despite not having become the final word on Ar...   \n",
              "4    This edition aims to of fer the reader the ful...   \n",
              "..                                                 ...   \n",
              "558  Spies are a most important element in war , be...   \n",
              "559  1 This edition, due to technical limitations, ...   \n",
              "560  Correctly , paragraph 5 in Chapter 1 ought to ...   \n",
              "561  This book has been downloaded from www .alicea...   \n",
              "562  You can find many more public domain books in ...   \n",
              "\n",
              "                                             embedding  \n",
              "0    [-0.059606559574604034, 0.02161659114062786, 0...  \n",
              "1    [-0.07412464916706085, 0.05851251259446144, -0...  \n",
              "2    [-0.0948018953204155, 0.1110830307006836, 0.03...  \n",
              "3    [-0.017075080424547195, 0.04146838188171387, -...  \n",
              "4    [-0.024649500846862793, 0.052450671792030334, ...  \n",
              "..                                                 ...  \n",
              "558  [-0.02499540150165558, -0.018303342163562775, ...  \n",
              "559  [-0.03652389347553253, -0.02410336397588253, 0...  \n",
              "560  [-0.09111081063747406, 0.0096738925203681, 0.0...  \n",
              "561  [0.008709556423127651, 0.015777170658111572, -...  \n",
              "562  [0.009475586004555225, -0.10236195474863052, -...  \n",
              "\n",
              "[563 rows x 2 columns]"
            ],
            "text/html": [
              "\n",
              "  <div id=\"df-9630692c-07bc-460f-90a0-96a79d5bbeb7\" class=\"colab-df-container\">\n",
              "    <div>\n",
              "<style scoped>\n",
              "    .dataframe tbody tr th:only-of-type {\n",
              "        vertical-align: middle;\n",
              "    }\n",
              "\n",
              "    .dataframe tbody tr th {\n",
              "        vertical-align: top;\n",
              "    }\n",
              "\n",
              "    .dataframe thead th {\n",
              "        text-align: right;\n",
              "    }\n",
              "</style>\n",
              "<table border=\"1\" class=\"dataframe\">\n",
              "  <thead>\n",
              "    <tr style=\"text-align: right;\">\n",
              "      <th></th>\n",
              "      <th>context</th>\n",
              "      <th>embedding</th>\n",
              "    </tr>\n",
              "  </thead>\n",
              "  <tbody>\n",
              "    <tr>\n",
              "      <th>0</th>\n",
              "      <td>T S T T : L G P : - 5 1 4 This book has been d...</td>\n",
              "      <td>[-0.059606559574604034, 0.02161659114062786, 0...</td>\n",
              "    </tr>\n",
              "    <tr>\n",
              "      <th>1</th>\n",
              "      <td>You can find many more public domain books in ...</td>\n",
              "      <td>[-0.07412464916706085, 0.05851251259446144, -0...</td>\n",
              "    </tr>\n",
              "    <tr>\n",
              "      <th>2</th>\n",
              "      <td>It contains the original Chinese text, an accu...</td>\n",
              "      <td>[-0.0948018953204155, 0.1110830307006836, 0.03...</td>\n",
              "    </tr>\n",
              "    <tr>\n",
              "      <th>3</th>\n",
              "      <td>Despite not having become the final word on Ar...</td>\n",
              "      <td>[-0.017075080424547195, 0.04146838188171387, -...</td>\n",
              "    </tr>\n",
              "    <tr>\n",
              "      <th>4</th>\n",
              "      <td>This edition aims to of fer the reader the ful...</td>\n",
              "      <td>[-0.024649500846862793, 0.052450671792030334, ...</td>\n",
              "    </tr>\n",
              "    <tr>\n",
              "      <th>...</th>\n",
              "      <td>...</td>\n",
              "      <td>...</td>\n",
              "    </tr>\n",
              "    <tr>\n",
              "      <th>558</th>\n",
              "      <td>Spies are a most important element in war , be...</td>\n",
              "      <td>[-0.02499540150165558, -0.018303342163562775, ...</td>\n",
              "    </tr>\n",
              "    <tr>\n",
              "      <th>559</th>\n",
              "      <td>1 This edition, due to technical limitations, ...</td>\n",
              "      <td>[-0.03652389347553253, -0.02410336397588253, 0...</td>\n",
              "    </tr>\n",
              "    <tr>\n",
              "      <th>560</th>\n",
              "      <td>Correctly , paragraph 5 in Chapter 1 ought to ...</td>\n",
              "      <td>[-0.09111081063747406, 0.0096738925203681, 0.0...</td>\n",
              "    </tr>\n",
              "    <tr>\n",
              "      <th>561</th>\n",
              "      <td>This book has been downloaded from www .alicea...</td>\n",
              "      <td>[0.008709556423127651, 0.015777170658111572, -...</td>\n",
              "    </tr>\n",
              "    <tr>\n",
              "      <th>562</th>\n",
              "      <td>You can find many more public domain books in ...</td>\n",
              "      <td>[0.009475586004555225, -0.10236195474863052, -...</td>\n",
              "    </tr>\n",
              "  </tbody>\n",
              "</table>\n",
              "<p>563 rows \u00d7 2 columns</p>\n",
              "</div>\n",
              "    <div class=\"colab-df-buttons\">\n",
              "\n",
              "  <div class=\"colab-df-container\">\n",
              "    <button class=\"colab-df-convert\" onclick=\"convertToInteractive('df-9630692c-07bc-460f-90a0-96a79d5bbeb7')\"\n",
              "            title=\"Convert this dataframe to an interactive table.\"\n",
              "            style=\"display:none;\">\n",
              "\n",
              "  <svg xmlns=\"http://www.w3.org/2000/svg\" height=\"24px\" viewBox=\"0 -960 960 960\">\n",
              "    <path d=\"M120-120v-720h720v720H120Zm60-500h600v-160H180v160Zm220 220h160v-160H400v160Zm0 220h160v-160H400v160ZM180-400h160v-160H180v160Zm440 0h160v-160H620v160ZM180-180h160v-160H180v160Zm440 0h160v-160H620v160Z\"/>\n",
              "  </svg>\n",
              "    </button>\n",
              "\n",
              "  <style>\n",
              "    .colab-df-container {\n",
              "      display:flex;\n",
              "      gap: 12px;\n",
              "    }\n",
              "\n",
              "    .colab-df-convert {\n",
              "      background-color: #E8F0FE;\n",
              "      border: none;\n",
              "      border-radius: 50%;\n",
              "      cursor: pointer;\n",
              "      display: none;\n",
              "      fill: #1967D2;\n",
              "      height: 32px;\n",
              "      padding: 0 0 0 0;\n",
              "      width: 32px;\n",
              "    }\n",
              "\n",
              "    .colab-df-convert:hover {\n",
              "      background-color: #E2EBFA;\n",
              "      box-shadow: 0px 1px 2px rgba(60, 64, 67, 0.3), 0px 1px 3px 1px rgba(60, 64, 67, 0.15);\n",
              "      fill: #174EA6;\n",
              "    }\n",
              "\n",
              "    .colab-df-buttons div {\n",
              "      margin-bottom: 4px;\n",
              "    }\n",
              "\n",
              "    [theme=dark] .colab-df-convert {\n",
              "      background-color: #3B4455;\n",
              "      fill: #D2E3FC;\n",
              "    }\n",
              "\n",
              "    [theme=dark] .colab-df-convert:hover {\n",
              "      background-color: #434B5C;\n",
              "      box-shadow: 0px 1px 3px 1px rgba(0, 0, 0, 0.15);\n",
              "      filter: drop-shadow(0px 1px 2px rgba(0, 0, 0, 0.3));\n",
              "      fill: #FFFFFF;\n",
              "    }\n",
              "  </style>\n",
              "\n",
              "    <script>\n",
              "      const buttonEl =\n",
              "        document.querySelector('#df-9630692c-07bc-460f-90a0-96a79d5bbeb7 button.colab-df-convert');\n",
              "      buttonEl.style.display =\n",
              "        google.colab.kernel.accessAllowed ? 'block' : 'none';\n",
              "\n",
              "      async function convertToInteractive(key) {\n",
              "        const element = document.querySelector('#df-9630692c-07bc-460f-90a0-96a79d5bbeb7');\n",
              "        const dataTable =\n",
              "          await google.colab.kernel.invokeFunction('convertToInteractive',\n",
              "                                                    [key], {});\n",
              "        if (!dataTable) return;\n",
              "\n",
              "        const docLinkHtml = 'Like what you see? Visit the ' +\n",
              "          '<a target=\"_blank\" href=https://colab.research.google.com/notebooks/data_table.ipynb>data table notebook</a>'\n",
              "          + ' to learn more about interactive tables.';\n",
              "        element.innerHTML = '';\n",
              "        dataTable['output_type'] = 'display_data';\n",
              "        await google.colab.output.renderOutput(dataTable, element);\n",
              "        const docLink = document.createElement('div');\n",
              "        docLink.innerHTML = docLinkHtml;\n",
              "        element.appendChild(docLink);\n",
              "      }\n",
              "    </script>\n",
              "  </div>\n",
              "\n",
              "\n",
              "<div id=\"df-e8625c64-63fb-4e87-88a9-75c913d6aebe\">\n",
              "  <button class=\"colab-df-quickchart\" onclick=\"quickchart('df-e8625c64-63fb-4e87-88a9-75c913d6aebe')\"\n",
              "            title=\"Suggest charts\"\n",
              "            style=\"display:none;\">\n",
              "\n",
              "<svg xmlns=\"http://www.w3.org/2000/svg\" height=\"24px\"viewBox=\"0 0 24 24\"\n",
              "     width=\"24px\">\n",
              "    <g>\n",
              "        <path d=\"M19 3H5c-1.1 0-2 .9-2 2v14c0 1.1.9 2 2 2h14c1.1 0 2-.9 2-2V5c0-1.1-.9-2-2-2zM9 17H7v-7h2v7zm4 0h-2V7h2v10zm4 0h-2v-4h2v4z\"/>\n",
              "    </g>\n",
              "</svg>\n",
              "  </button>\n",
              "\n",
              "<style>\n",
              "  .colab-df-quickchart {\n",
              "      --bg-color: #E8F0FE;\n",
              "      --fill-color: #1967D2;\n",
              "      --hover-bg-color: #E2EBFA;\n",
              "      --hover-fill-color: #174EA6;\n",
              "      --disabled-fill-color: #AAA;\n",
              "      --disabled-bg-color: #DDD;\n",
              "  }\n",
              "\n",
              "  [theme=dark] .colab-df-quickchart {\n",
              "      --bg-color: #3B4455;\n",
              "      --fill-color: #D2E3FC;\n",
              "      --hover-bg-color: #434B5C;\n",
              "      --hover-fill-color: #FFFFFF;\n",
              "      --disabled-bg-color: #3B4455;\n",
              "      --disabled-fill-color: #666;\n",
              "  }\n",
              "\n",
              "  .colab-df-quickchart {\n",
              "    background-color: var(--bg-color);\n",
              "    border: none;\n",
              "    border-radius: 50%;\n",
              "    cursor: pointer;\n",
              "    display: none;\n",
              "    fill: var(--fill-color);\n",
              "    height: 32px;\n",
              "    padding: 0;\n",
              "    width: 32px;\n",
              "  }\n",
              "\n",
              "  .colab-df-quickchart:hover {\n",
              "    background-color: var(--hover-bg-color);\n",
              "    box-shadow: 0 1px 2px rgba(60, 64, 67, 0.3), 0 1px 3px 1px rgba(60, 64, 67, 0.15);\n",
              "    fill: var(--button-hover-fill-color);\n",
              "  }\n",
              "\n",
              "  .colab-df-quickchart-complete:disabled,\n",
              "  .colab-df-quickchart-complete:disabled:hover {\n",
              "    background-color: var(--disabled-bg-color);\n",
              "    fill: var(--disabled-fill-color);\n",
              "    box-shadow: none;\n",
              "  }\n",
              "\n",
              "  .colab-df-spinner {\n",
              "    border: 2px solid var(--fill-color);\n",
              "    border-color: transparent;\n",
              "    border-bottom-color: var(--fill-color);\n",
              "    animation:\n",
              "      spin 1s steps(1) infinite;\n",
              "  }\n",
              "\n",
              "  @keyframes spin {\n",
              "    0% {\n",
              "      border-color: transparent;\n",
              "      border-bottom-color: var(--fill-color);\n",
              "      border-left-color: var(--fill-color);\n",
              "    }\n",
              "    20% {\n",
              "      border-color: transparent;\n",
              "      border-left-color: var(--fill-color);\n",
              "      border-top-color: var(--fill-color);\n",
              "    }\n",
              "    30% {\n",
              "      border-color: transparent;\n",
              "      border-left-color: var(--fill-color);\n",
              "      border-top-color: var(--fill-color);\n",
              "      border-right-color: var(--fill-color);\n",
              "    }\n",
              "    40% {\n",
              "      border-color: transparent;\n",
              "      border-right-color: var(--fill-color);\n",
              "      border-top-color: var(--fill-color);\n",
              "    }\n",
              "    60% {\n",
              "      border-color: transparent;\n",
              "      border-right-color: var(--fill-color);\n",
              "    }\n",
              "    80% {\n",
              "      border-color: transparent;\n",
              "      border-right-color: var(--fill-color);\n",
              "      border-bottom-color: var(--fill-color);\n",
              "    }\n",
              "    90% {\n",
              "      border-color: transparent;\n",
              "      border-bottom-color: var(--fill-color);\n",
              "    }\n",
              "  }\n",
              "</style>\n",
              "\n",
              "  <script>\n",
              "    async function quickchart(key) {\n",
              "      const quickchartButtonEl =\n",
              "        document.querySelector('#' + key + ' button');\n",
              "      quickchartButtonEl.disabled = true;  // To prevent multiple clicks.\n",
              "      quickchartButtonEl.classList.add('colab-df-spinner');\n",
              "      try {\n",
              "        const charts = await google.colab.kernel.invokeFunction(\n",
              "            'suggestCharts', [key], {});\n",
              "      } catch (error) {\n",
              "        console.error('Error during call to suggestCharts:', error);\n",
              "      }\n",
              "      quickchartButtonEl.classList.remove('colab-df-spinner');\n",
              "      quickchartButtonEl.classList.add('colab-df-quickchart-complete');\n",
              "    }\n",
              "    (() => {\n",
              "      let quickchartButtonEl =\n",
              "        document.querySelector('#df-e8625c64-63fb-4e87-88a9-75c913d6aebe button');\n",
              "      quickchartButtonEl.style.display =\n",
              "        google.colab.kernel.accessAllowed ? 'block' : 'none';\n",
              "    })();\n",
              "  </script>\n",
              "</div>\n",
              "\n",
              "    </div>\n",
              "  </div>\n"
            ],
            "application/vnd.google.colaboratory.intrinsic+json": {
              "type": "dataframe",
              "summary": "{\n  \"name\": \"pd\",\n  \"rows\": 563,\n  \"fields\": [\n    {\n      \"column\": \"context\",\n      \"properties\": {\n        \"dtype\": \"string\",\n        \"num_unique_values\": 563,\n        \"samples\": [\n          \"He will conquer who has learnt the artifice of deviation.\",\n          \"There will be commotion at home and abroad, and men will drop down exhausted on the highways.\",\n          \"Do not interfere with an army that is returning home.\"\n        ],\n        \"semantic_type\": \"\",\n        \"description\": \"\"\n      }\n    },\n    {\n      \"column\": \"embedding\",\n      \"properties\": {\n        \"dtype\": \"object\",\n        \"semantic_type\": \"\",\n        \"description\": \"\"\n      }\n    }\n  ]\n}"
            }
          },
          "metadata": {},
          "execution_count": 42
        }
      ]
    },
    {
      "cell_type": "markdown",
      "source": [
        "# Step 7: Perform semantic search query"
      ],
      "metadata": {
        "id": "GMbLiF8MF3YW"
      }
    },
    {
      "cell_type": "code",
      "source": [
        "query = \"In attacking with fire, one should be prepared to how many possible developments?\"\n",
        "query_embedding = get_embeddings([query])\n",
        "query_embedding"
      ],
      "metadata": {
        "colab": {
          "base_uri": "https://localhost:8080/"
        },
        "id": "apiQTWx7Fx9S",
        "outputId": "2fb4c121-3c5b-42e6-f366-47c4a1b38109"
      },
      "execution_count": 43,
      "outputs": [
        {
          "output_type": "execute_result",
          "data": {
            "text/plain": [
              "array([[ 5.12303486e-02,  4.31203991e-02, -1.20121837e-02,\n",
              "        -2.85682101e-02,  1.31183062e-02,  7.11346418e-03,\n",
              "        -5.82009554e-02, -3.98939848e-03,  3.45854717e-03,\n",
              "..                                                 ...  \n",
              "         2.65065469e-02,  4.01424728e-02,  8.60863328e-02,\n",
              "         6.39863536e-02,  1.81283448e-02,  2.11451063e-03,\n",
              "         6.53263256e-02,  1.92655798e-03,  7.07467422e-02,\n",
              "        -4.79431786e-02, -2.64714956e-02,  1.81499142e-02]], dtype=float32)"
            ]
          },
          "metadata": {},
          "execution_count": 43
        }
      ]
    },
    {
      "cell_type": "markdown",
      "source": [
        "# Step 8: Retrieve top-1 most relevant sentence"
      ],
      "metadata": {
        "id": "Zz7nJqykGhfZ"
      }
    },
    {
      "cell_type": "code",
      "source": [
        "scores, results = dataset.get_nearest_examples(\"embedding\", query_embedding, k=1)"
      ],
      "metadata": {
        "id": "mofeGctOGdar"
      },
      "execution_count": 44,
      "outputs": []
    },
    {
      "cell_type": "markdown",
      "source": [
        "# Step 9: Show the clean, precise answer"
      ],
      "metadata": {
        "id": "3-IHIGoQGzJO"
      }
    },
    {
      "cell_type": "code",
      "source": [
        "# Step 9: Show the clean, precise answer\n",
        "print(\"scores:\",scores)\n",
        "print(\"\\n Query:\", query)\n",
        "print(\"Most Relevant Answer:\\n\", results[\"context\"][0])"
      ],
      "metadata": {
        "colab": {
          "base_uri": "https://localhost:8080/"
        },
        "id": "sBS95uDiGoaL",
        "outputId": "89baf0e3-d577-4bed-93c6-a0279bf881a6"
      },
      "execution_count": 45,
      "outputs": [
        {
          "output_type": "stream",
          "name": "stdout",
          "text": [
            "scores: [0.29814604]\n",
            "\n",
            " Query: In attacking with fire, one should be prepared to how many possible developments?\n",
            "Most Relevant Answer:\n",
            " In attacking with fire, one should be prepared to meet five possible developments: 6.\n"
          ]
        }
      ]
    },
    {
      "cell_type": "markdown",
      "source": [
        "# More Examples:"
      ],
      "metadata": {
        "id": "H8A72OTWG9A4"
      }
    },
    {
      "cell_type": "code",
      "source": [
        "query = \"what are five ways of attack?\"\n",
        "query_embedding = get_embeddings([query])\n",
        "scores, results = dataset.get_nearest_examples(\"embedding\", query_embedding, k=3)\n",
        "\n",
        "# Combine the top-3 results into one paragraph\n",
        "answer = \" \".join(results[\"context\"])\n",
        "\n",
        "print(\"Query:\", query)\n",
        "print(\"\\n Scores:\", scores)\n",
        "print(\"\\n Most Relevant Answer:\\n\", answer)"
      ],
      "metadata": {
        "colab": {
          "base_uri": "https://localhost:8080/"
        },
        "id": "-wo8HImoG0Rd",
        "outputId": "14f0ed0f-518c-439a-9c19-8df2d6422913"
      },
      "execution_count": 49,
      "outputs": [
        {
          "output_type": "stream",
          "name": "stdout",
          "text": [
            "Query: what are five ways of attack?\n",
            "\n",
            " Scores: [0.78094304 0.7871499  0.96002233]\n",
            "\n",
            " Most Relevant Answer:\n",
            " In attacking with fire, one should be prepared to meet five possible developments: 6. Sun Tzu said: There are five ways of attacking with fire. Strike at its head, and you will be attacked by its tail; strike at its tail, and you will be attacked by its head; strike at its middle, and you will be attacked by head and tail both.\n"
          ]
        }
      ]
    },
    {
      "cell_type": "markdown",
      "source": [
        "# Step 10: Summarize answer if its too long"
      ],
      "metadata": {
        "id": "f_vtmD6CH-nz"
      }
    },
    {
      "cell_type": "code",
      "source": [
        "from transformers import pipeline\n",
        "\n",
        "summarizer = pipeline(\"summarization\", model=\"sshleifer/distilbart-cnn-12-6\")\n",
        "\n",
        "summary = summarizer(answer, max_length=150, min_length=20, do_sample=False)\n",
        "print(\"Summary:\", summary[0][\"summary_text\"])"
      ],
      "metadata": {
        "colab": {
          "base_uri": "https://localhost:8080/",
          "height": 281,
          "referenced_widgets": [
            "fd09229f54b641a9bb024266f9b308e2",
            "853730061ea64d4dbb741e1530d40904",
            "..                                                 ...  \n",
            "c2443ac21177481486d31897b7cb30cc",
            "3ab5c3c34f2f4a95b030784d5e51a861",
            "64adc7665ae74f05a974b43eb0225a8a"
          ]
        },
        "id": "CmQWsNnSHN8w",
        "outputId": "b3b547c7-f085-48f2-bc9f-c0ed4ac2e1c4"
      },
      "execution_count": 50,
      "outputs": [
        {
          "output_type": "display_data",
          "data": {
            "text/plain": [
              "config.json:   0%|          | 0.00/1.80k [00:00<?, ?B/s]"
            ],
            "application/vnd.jupyter.widget-view+json": {
              "version_major": 2,
              "version_minor": 0,
              "model_id": "fd09229f54b641a9bb024266f9b308e2"
            }
          },
          "metadata": {}
        },
        {
          "output_type": "display_data",
          "data": {
            "text/plain": [
              "pytorch_model.bin:   0%|          | 0.00/1.22G [00:00<?, ?B/s]"
            ],
            "application/vnd.jupyter.widget-view+json": {
              "version_major": 2,
              "version_minor": 0,
              "model_id": "f1694c48a3dc471a808a0ec485e2892c"
            }
          },
          "metadata": {}
        },
        {
          "output_type": "display_data",
          "data": {
            "text/plain": [
              "model.safetensors:   0%|          | 0.00/1.22G [00:00<?, ?B/s]"
            ],
            "application/vnd.jupyter.widget-view+json": {
              "version_major": 2,
              "version_minor": 0,
              "model_id": "be48aa0f76f74848a2b7d0c2db1da0e2"
            }
          },
          "metadata": {}
        },
        {
          "output_type": "display_data",
          "data": {
            "text/plain": [
              "tokenizer_config.json:   0%|          | 0.00/26.0 [00:00<?, ?B/s]"
            ],
            "application/vnd.jupyter.widget-view+json": {
              "version_major": 2,
              "version_minor": 0,
              "model_id": "4eb497853e0c473c9b788697d7eeb688"
            }
          },
          "metadata": {}
        },
        {
          "output_type": "display_data",
          "data": {
            "text/plain": [
              "vocab.json:   0%|          | 0.00/899k [00:00<?, ?B/s]"
            ],
            "application/vnd.jupyter.widget-view+json": {
              "version_major": 2,
              "version_minor": 0,
              "model_id": "46a8045fcc9d4ca4b0b695b8f878bad0"
            }
          },
          "metadata": {}
        },
        {
          "output_type": "display_data",
          "data": {
            "text/plain": [
              "merges.txt:   0%|          | 0.00/456k [00:00<?, ?B/s]"
            ],
            "application/vnd.jupyter.widget-view+json": {
              "version_major": 2,
              "version_minor": 0,
              "model_id": "87838c522a00421bb07be5bdba446665"
            }
          },
          "metadata": {}
        },
        {
          "output_type": "stream",
          "name": "stderr",
          "text": [
            "Device set to use cpu\n",
            "Your max_length is set to 150, but your input_length is only 77. Since this is a summarization task, where outputs shorter than the input are typically wanted, you might consider decreasing max_length manually, e.g. summarizer('...', max_length=38)\n"
          ]
        },
        {
          "output_type": "stream",
          "name": "stdout",
          "text": [
            "Summary:  Sun Tzu said: There are five ways of attacking with fire . Strike at its head, and you will be attacked by its tail; strike at its middle, and attack head and tail both .\n"
          ]
        }
      ]
    },
    {
      "cell_type": "code",
      "source": [
        "!pip install rouge-score"
      ],
      "metadata": {
        "colab": {
          "base_uri": "https://localhost:8080/"
        },
        "id": "Rqj67UUfM6ZM",
        "outputId": "d1e844c0-2f09-497b-bf57-0fafcba9d1d6"
      },
      "execution_count": 51,
      "outputs": [
        {
          "output_type": "stream",
          "name": "stdout",
          "text": [
            "Collecting rouge-score\n",
            "  Downloading rouge_score-0.1.2.tar.gz (17 kB)\n",
            "  Preparing metadata (setup.py) ... \u001b[?25l\u001b[?25hdone\n",
            "Requirement already satisfied: absl-py in /usr/local/lib/python3.11/dist-packages (from rouge-score) (1.4.0)\n",
            "Requirement already satisfied: nltk in /usr/local/lib/python3.11/dist-packages (from rouge-score) (3.9.1)\n",
            "Requirement already satisfied: numpy in /usr/local/lib/python3.11/dist-packages (from rouge-score) (2.0.2)\n",
            "Requirement already satisfied: six>=1.14.0 in /usr/local/lib/python3.11/dist-packages (from rouge-score) (1.17.0)\n",
            "Requirement already satisfied: click in /usr/local/lib/python3.11/dist-packages (from nltk->rouge-score) (8.1.8)\n",
            "Requirement already satisfied: joblib in /usr/local/lib/python3.11/dist-packages (from nltk->rouge-score) (1.4.2)\n",
            "Requirement already satisfied: regex>=2021.8.3 in /usr/local/lib/python3.11/dist-packages (from nltk->rouge-score) (2024.11.6)\n",
            "Requirement already satisfied: tqdm in /usr/local/lib/python3.11/dist-packages (from nltk->rouge-score) (4.67.1)\n",
            "Building wheels for collected packages: rouge-score\n",
            "  Building wheel for rouge-score (setup.py) ... \u001b[?25l\u001b[?25hdone\n",
            "  Created wheel for rouge-score: filename=rouge_score-0.1.2-py3-none-any.whl size=24934 sha256=f281eaa2451b6032a9a8bd02442b63adf739c8be272b4b3c3f9f08ad203f8fa4\n",
            "  Stored in directory: /root/.cache/pip/wheels/1e/19/43/8a442dc83660ca25e163e1bd1f89919284ab0d0c1475475148\n",
            "Successfully built rouge-score\n",
            "Installing collected packages: rouge-score\n",
            "Successfully installed rouge-score-0.1.2\n"
          ]
        }
      ]
    },
    {
      "cell_type": "markdown",
      "source": [
        "# Performance Matrices"
      ],
      "metadata": {
        "id": "IbW74e2xOBTQ"
      }
    },
    {
      "cell_type": "code",
      "source": [
        "from difflib import SequenceMatcher\n",
        "\n",
        "# Define sample evaluation\n",
        "queries = [\n",
        "    \"What are the five ways of attack?\",\n",
        "    \"How many developments in attacking with fire?\"\n",
        "]\n",
        "\n",
        "expected_answers = [\n",
        "    \"There are five ways of attacking with fire.\",\n",
        "    \"In attacking with fire, one should be prepared to meet five possible developments.\"\n",
        "]\n",
        "\n",
        "retrieved_sentences = [\n",
        "    [\"There are five ways of attacking with fire.\", \"Extra sentence\"],\n",
        "    [\"In attacking with fire, one should be prepared to meet five possible developments.\", \"Another\"]\n",
        "]\n",
        "\n",
        "generated_answers = [\n",
        "    \"There are five ways of attacking with fire.\",\n",
        "    \"In attacking with fire, one should be prepared to meet five possible developments.\"\n",
        "]\n",
        "\n",
        "# Matchers\n",
        "def is_exact_match(predicted, expected):\n",
        "    return predicted.strip().lower() == expected.strip().lower()\n",
        "\n",
        "def fuzzy_match(predicted, expected, threshold=0.8):\n",
        "    return SequenceMatcher(None, predicted.lower(), expected.lower()).ratio() >= threshold\n",
        "\n",
        "# Evaluation\n",
        "total = len(queries)\n",
        "exact_matches = fuzzy_matches = 0\n",
        "precision_at_k = []\n",
        "mrr = []\n",
        "\n",
        "for i in range(total):\n",
        "    expected = expected_answers[i]\n",
        "    retrieved = retrieved_sentences[i]\n",
        "    generated = generated_answers[i]\n",
        "\n",
        "    if is_exact_match(generated, expected): exact_matches += 1\n",
        "    if fuzzy_match(generated, expected): fuzzy_matches += 1\n",
        "\n",
        "    precision = sum([1 for r in retrieved if fuzzy_match(r, expected)]) / len(retrieved)\n",
        "    precision_at_k.append(precision)\n",
        "\n",
        "    rank = next((1 / (i + 1) for i, r in enumerate(retrieved) if fuzzy_match(r, expected)), 0)\n",
        "    mrr.append(rank)\n",
        "\n",
        "print(f\"Total Queries: {total}\")\n",
        "print(f\"Exact Match Accuracy: {exact_matches / total:.2f}\")\n",
        "print(f\"Fuzzy Match Accuracy (\u226580%): {fuzzy_matches / total:.2f}\")\n",
        "print(f\"Avg Precision@k: {sum(precision_at_k) / total:.2f}\")\n",
        "print(f\"Mean Reciprocal Rank (MRR): {sum(mrr) / total:.2f}\")"
      ],
      "metadata": {
        "colab": {
          "base_uri": "https://localhost:8080/"
        },
        "id": "qDDZcgIKIJLX",
        "outputId": "03d098c5-796e-46d2-db4d-b5ee21d1d161"
      },
      "execution_count": 57,
      "outputs": [
        {
          "output_type": "stream",
          "name": "stdout",
          "text": [
            "Total Queries: 2\n",
            "Exact Match Accuracy: 1.00\n",
            "Fuzzy Match Accuracy (\u226580%): 1.00\n",
            "Avg Precision@k: 0.50\n",
            "Mean Reciprocal Rank (MRR): 1.00\n"
          ]
        }
      ]
    },
    {
      "cell_type": "markdown",
      "source": [
        "# Save the Model"
      ],
      "metadata": {
        "id": "kd6SogPAMEns"
      }
    },
    {
      "cell_type": "code",
      "source": [
        "import os\n",
        "from datasets import Dataset\n",
        "from sentence_transformers import SentenceTransformer\n",
        "import faiss\n",
        "import pickle\n",
        "\n",
        "# Paths\n",
        "MODEL_SAVE_PATH = \"my_rag_model\"\n",
        "DATASET_SAVE_PATH = \"/content/mydata\"\n",
        "FAISS_INDEX_PATH = \"faiss_index.bin\"\n",
        "\n",
        "# Load your SentenceTransformer model\n",
        "model = SentenceTransformer(\"all-MiniLM-L6-v2\")\n",
        "\n",
        "# Example input sentences (replace this with your actual corpus)\n",
        "sentences = [\n",
        "    \"There are five ways of attacking with fire.\",\n",
        "    \"In attacking with fire, one should be prepared to meet five possible developments.\",\n",
        "    \"Sun Tzu was a Chinese military strategist.\",\n",
        "    \"Strategy is the key to winning without fighting.\"\n",
        "]\n",
        "\n",
        "# Step 1: Create dataset\n",
        "dataset = Dataset.from_dict({\"context\": sentences})\n",
        "\n",
        "# Step 2: Embed the text\n",
        "def get_embeddings(texts):\n",
        "    return model.encode(texts, normalize_embeddings=True)\n",
        "\n",
        "dataset = dataset.map(lambda x: {\"embedding\": get_embeddings([x[\"context\"]])[0]})\n",
        "\n",
        "# Step 3: Add FAISS index\n",
        "dataset.add_faiss_index(column=\"embedding\")\n",
        "\n",
        "# Step 4: Save model\n",
        "model.save(MODEL_SAVE_PATH)\n",
        "\n",
        "# Step 5: Save FAISS index separately\n",
        "dataset.save_faiss_index(\"embedding\", FAISS_INDEX_PATH)\n",
        "\n",
        "# Step 6: Drop index to save dataset\n",
        "dataset = dataset.drop_index(\"embedding\")\n",
        "# dataset.save_to_disk(DATASET_SAVE_PATH)\n",
        "\n",
        "print(\"Model, FAISS index, and dataset saved successfully!\")"
      ],
      "metadata": {
        "colab": {
          "base_uri": "https://localhost:8080/",
          "height": 98,
          "referenced_widgets": [
            "f72dcd5ed8594f6ca3fbaea82d27886c",
            "130a3d26e14640deb2d5cdca8f235d63",
            "795d8c0e026046ae8d29dff60da9fd4c",
            "90ae2e4e9d6d4563b13bc5660c915eed",
            "4f417429b8e64f4790fab396a175136f",
            "781ee3c86daf479286578e0f27357d25",
            "f930d2e05eb0420ebd3e221860f62a51",
            "012661be9ea149ca979aa71167ed9a7e",
            "b5bc2de7d1714f69bc1ca0518a9ee4fc",
            "e05d1e36a67349cbb57afb8f2d1cb002",
            "98df957a7cd4479fbc54bb7e4bdbfea1",
            "72a4e193ce4644b7aedf96e8ca7575a3",
            "0b887ac200164ff8b1567adb20466d18",
            "4f5569ecbc1743578c556edd7e9bb526",
            "491e15a313a746a9a1b0102d9906ac76",
            "7c7bb4050eee4dcdacaa0906128c7328",
            "3aa36e8430a842f1bb883a25cd36c69f",
            "d762fb2adde0442e9ff8bd0e5510532d",
            "61617e386eee4f55b912e56b92d55f20",
            "02012a672bd9410eb99c193e8ad090a1",
            "a348db8df6c74134bd490e3b0a36176b",
            "6b49ca7ca6f840b085b813b316bcb67e"
          ]
        },
        "id": "V2x3jfeTOR6Z",
        "outputId": "0a0b0a11-89e3-446b-9de1-a2c0172c8ee5"
      },
      "execution_count": 67,
      "outputs": [
        {
          "output_type": "display_data",
          "data": {
            "text/plain": [
              "Map:   0%|          | 0/4 [00:00<?, ? examples/s]"
            ],
            "application/vnd.jupyter.widget-view+json": {
              "version_major": 2,
              "version_minor": 0,
              "model_id": "f72dcd5ed8594f6ca3fbaea82d27886c"
            }
          },
          "metadata": {}
        },
        {
          "output_type": "display_data",
          "data": {
            "text/plain": [
              "  0%|          | 0/1 [00:00<?, ?it/s]"
            ],
            "application/vnd.jupyter.widget-view+json": {
              "version_major": 2,
              "version_minor": 0,
              "model_id": "72a4e193ce4644b7aedf96e8ca7575a3"
            }
          },
          "metadata": {}
        },
        {
          "output_type": "stream",
          "name": "stdout",
          "text": [
            "Model, FAISS index, and dataset saved successfully!\n"
          ]
        }
      ]
    },
    {
      "cell_type": "markdown",
      "source": [
        "# Later: Reloading for Inference"
      ],
      "metadata": {
        "id": "lsAiW4xwTaFc"
      }
    },
    {
      "cell_type": "code",
      "source": [
        "from datasets import load_from_disk\n",
        "from sentence_transformers import SentenceTransformer\n",
        "\n",
        "# Load model\n",
        "model = SentenceTransformer(\"my_rag_model\")\n",
        "\n",
        "# Load dataset\n",
        "dataset = load_from_disk(\"my_dataset\")\n",
        "\n",
        "# Load FAISS index back\n",
        "dataset.load_faiss_index(\"embedding\", \"faiss_index.bin\")\n",
        "\n",
        "# Now ready for semantic search again\n",
        "query = \"What are the five ways of attack?\"\n",
        "query_embedding = model.encode([query], normalize_embeddings=True)\n",
        "scores, results = dataset.get_nearest_examples(\"embedding\", query_embedding, k=3)\n",
        "print(\"Answer:\", \" \".join(results[\"context\"]))\n"
      ],
      "metadata": {
        "id": "Ra2hs2o1QLrF"
      },
      "execution_count": null,
      "outputs": []
    }
  ]
}
